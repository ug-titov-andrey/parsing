{
 "cells": [
  {
   "cell_type": "code",
   "execution_count": 1,
   "id": "7979d512",
   "metadata": {},
   "outputs": [],
   "source": [
    "from pprint import pprint\n",
    "import requests\n",
    "from time import sleep\n",
    "from bs4 import BeautifulSoup as bs"
   ]
  },
  {
   "cell_type": "code",
   "execution_count": 3,
   "id": "262bb5de",
   "metadata": {},
   "outputs": [],
   "source": [
    "URL_hh = 'https://hh.ru/search/vacancy'\n",
    "#URL_hh = 'https://hh.ru/search/vacancy?text=python&sala&area=1&ored_clusters=true&enable_snippets=true'0\n",
    "USER_AGENT = 'Mozilla/5.0 (Windows NT 10.0; Win64; x64) AppleWebKit/537.36 (KHTML, like Gecko) Chrome/109.0.0. Safari/537.36'\n",
    "headers = {'User-Agent': USER_AGENT}\n",
    "params = {'enable_snippets':'true','text':'python', 'area':'1','ored_clusters':'true', 'enable_snippets':'true'}"
   ]
  },
  {
   "cell_type": "code",
   "execution_count": 4,
   "id": "7cb31abd",
   "metadata": {},
   "outputs": [],
   "source": [
    "def sort_salary(vac_salary_text,min_salary=None, max_salary=None, currency_salary=None):\n",
    "  list_salary = vac_salary_text.replace('\\u202f', '').split()\n",
    "  for i in range(len(list_salary) - 1):\n",
    "    if list_salary[i] == 'от':\n",
    "      min_salary = int(list_salary[i + 1])\n",
    "    elif list_salary[i] == 'до':\n",
    "      max_salary = int(list_salary[i + 1])\n",
    "    elif list_salary[i] == '–':\n",
    "      min_salary = int(list_salary[i - 1])\n",
    "      max_salary = int(list_salary[i + 1])\n",
    "  currency_salary = list_salary[-1]\n",
    "\n",
    "  return min_salary, max_salary, currency_salary"
   ]
  },
  {
   "cell_type": "code",
   "execution_count": 6,
   "id": "19b32cde",
   "metadata": {},
   "outputs": [],
   "source": [
    "def parse_hadH(url,headers, params, result = [], page = 0):\n",
    "    params['page'] = page\n",
    "    headers = headers\n",
    "    response = requests.get(URL_hh, headers = headers,params=params)\n",
    "    if response.status_code != 200:\n",
    "        print('поиск закончен')\n",
    "        return False\n",
    "    dom = bs(response.text,'html.parser') \n",
    "    job_list = dom.find_all('div', {'class':'vacancy-serp-item__layout',}) #Ищем все уникальные теги, содержащие инф. о вакансиях\n",
    "    #На странице помещается 20 вакансий. Если длина списка равна 20, то все найденные теги уникальны   \n",
    "    if(len(job_list) <=20):\n",
    "              print('все найденные теги уникальны')\n",
    "    for vac in job_list:\n",
    "        sleep(1)\n",
    "        vac_name = vac.find('a').text\n",
    "        vac_salary = vac.find('span', {'class', 'bloko-header-section-3'})\n",
    "        if vac_salary:\n",
    "            vac_salary = vac_salary.text\n",
    "            min_salary, max_salary, currency_salary = sort_salary(vac_salary)\n",
    "        else:\n",
    "            min_salary, max_salary, currency_salary = None, None, None\n",
    "        vac_link = vac.find('a')['href']\n",
    "        result.append(   {'vac_name': vac_name,'vac_salary': vac_salary, 'min_salary': min_salary,'max_salary': max_salary,\n",
    "                          'currency_salary': currency_salary,'vac_link': vac_link,'vacancy_source': 'hh.ru'})\n",
    "    return result"
   ]
  },
  {
   "cell_type": "code",
   "execution_count": 8,
   "id": "89882060",
   "metadata": {},
   "outputs": [
    {
     "name": "stdout",
     "output_type": "stream",
     "text": [
      "Collecting pymongo\n",
      "  Downloading pymongo-4.3.3-cp39-cp39-manylinux_2_17_x86_64.manylinux2014_x86_64.whl (492 kB)\n",
      "\u001b[2K     \u001b[38;2;114;156;31m━━━━━━━━━━━━━━━━━━━━━━━━━━━━━━━━━━━━━━━\u001b[0m \u001b[32m492.1/492.1 kB\u001b[0m \u001b[31m2.6 MB/s\u001b[0m eta \u001b[36m0:00:00\u001b[0mm eta \u001b[36m0:00:01\u001b[0m[36m0:00:01\u001b[0m\n",
      "\u001b[?25hCollecting dnspython<3.0.0,>=1.16.0\n",
      "  Downloading dnspython-2.3.0-py3-none-any.whl (283 kB)\n",
      "\u001b[2K     \u001b[38;2;114;156;31m━━━━━━━━━━━━━━━━━━━━━━━━━━━━━━━━━━━━━━━\u001b[0m \u001b[32m283.7/283.7 kB\u001b[0m \u001b[31m1.1 MB/s\u001b[0m eta \u001b[36m0:00:00\u001b[0m[36m0:00:01\u001b[0mm eta \u001b[36m0:00:01\u001b[0m\n",
      "\u001b[?25hInstalling collected packages: dnspython, pymongo\n",
      "Successfully installed dnspython-2.3.0 pymongo-4.3.3\n"
     ]
    }
   ],
   "source": [
    "#!pip install pymongo"
   ]
  },
  {
   "cell_type": "code",
   "execution_count": 9,
   "id": "1406be75",
   "metadata": {},
   "outputs": [],
   "source": [
    "from pymongo import MongoClient"
   ]
  },
  {
   "cell_type": "code",
   "execution_count": 31,
   "id": "93af1626",
   "metadata": {},
   "outputs": [],
   "source": [
    "client = MongoClient()\n",
    "mydb= client.myPythonVac\n",
    "myListDbVac = mydb.hhVac"
   ]
  },
  {
   "cell_type": "code",
   "execution_count": 28,
   "id": "26568c58",
   "metadata": {},
   "outputs": [],
   "source": [
    "#print(client.list_database_names())\n",
    "#print(mydb.list_collection_names())\n",
    "#pprint(list(mydb.users.find()))"
   ]
  },
  {
   "cell_type": "code",
   "execution_count": 33,
   "id": "1dba4f7e",
   "metadata": {},
   "outputs": [
    {
     "name": "stdout",
     "output_type": "stream",
     "text": [
      "все найденные теги уникальны\n"
     ]
    }
   ],
   "source": [
    "listVacacies = parse_hadH(URL_hh,headers, params,page = 1) # Список вакансий на первой страице hh"
   ]
  },
  {
   "cell_type": "code",
   "execution_count": 41,
   "id": "9a3abf9c",
   "metadata": {},
   "outputs": [],
   "source": [
    "def check_unique_vac(listVacacies):\n",
    "    for vacancy in listVacacies:\n",
    "        if not len(list(myListDbVac.find({'vac_link': vacancy['vac_link']}))):\n",
    "            myListDbVac.insert_one(vacancy) \n",
    "        "
   ]
  },
  {
   "cell_type": "code",
   "execution_count": 47,
   "id": "d8b6aab1",
   "metadata": {},
   "outputs": [
    {
     "name": "stdout",
     "output_type": "stream",
     "text": [
      "20 уникадьных вакансий добавились в бд с первой страницы\n"
     ]
    }
   ],
   "source": [
    "check_unique_vac(listVacacies)\n",
    "size_db = len(list(myListDbVac.find()))\n",
    "print(f'{size_db} уникадьных вакансий добавились в бд с первой страницы')"
   ]
  },
  {
   "cell_type": "code",
   "execution_count": null,
   "id": "1d78074d",
   "metadata": {},
   "outputs": [],
   "source": []
  }
 ],
 "metadata": {
  "kernelspec": {
   "display_name": "Python 3 (ipykernel)",
   "language": "python",
   "name": "python3"
  },
  "language_info": {
   "codemirror_mode": {
    "name": "ipython",
    "version": 3
   },
   "file_extension": ".py",
   "mimetype": "text/x-python",
   "name": "python",
   "nbconvert_exporter": "python",
   "pygments_lexer": "ipython3",
   "version": "3.9.13"
  }
 },
 "nbformat": 4,
 "nbformat_minor": 5
}
